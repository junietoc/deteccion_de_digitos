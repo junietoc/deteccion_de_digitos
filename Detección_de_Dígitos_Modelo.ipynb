{
  "nbformat": 4,
  "nbformat_minor": 0,
  "metadata": {
    "colab": {
      "provenance": []
    },
    "kernelspec": {
      "name": "python3",
      "display_name": "Python 3"
    },
    "language_info": {
      "name": "python"
    }
  },
  "cells": [
    {
      "cell_type": "markdown",
      "source": [
        "# Modelo de Detección de Dígitos\n",
        "Juliana Nieto Cárdenas\n",
        "## Una pequeña red neuronal\n"
      ],
      "metadata": {
        "id": "K_e5j29YWa2b"
      }
    },
    {
      "cell_type": "code",
      "source": [
        "from keras.datasets import mnist\n",
        "from keras import models\n",
        "from keras import layers\n",
        "from tensorflow.keras.utils import to_categorical\n"
      ],
      "metadata": {
        "id": "jxEdX2cfmTpO"
      },
      "execution_count": 12,
      "outputs": []
    },
    {
      "cell_type": "markdown",
      "source": [
        "### Los datos\n",
        "Cada imagen está representada por una matriz de numpy, de dimensión 28 x 28\n"
      ],
      "metadata": {
        "id": "MOlMxIprWmXU"
      }
    },
    {
      "cell_type": "code",
      "execution_count": 18,
      "metadata": {
        "id": "500au3pTl7Z2"
      },
      "outputs": [],
      "source": [
        "(train_images, train_labels), (test_images, test_labels) = mnist.load_data()"
      ]
    },
    {
      "cell_type": "code",
      "source": [
        "train_images.shape"
      ],
      "metadata": {
        "colab": {
          "base_uri": "https://localhost:8080/"
        },
        "id": "tcBdDgZBmrev",
        "outputId": "a3791c38-f2f5-4ee1-a5f2-266cc6c4a5de"
      },
      "execution_count": 21,
      "outputs": [
        {
          "output_type": "execute_result",
          "data": {
            "text/plain": [
              "(60000, 28, 28)"
            ]
          },
          "metadata": {},
          "execution_count": 21
        }
      ]
    },
    {
      "cell_type": "markdown",
      "source": [
        "####  Preparando datos\n",
        "- A continuación, se realiza un redimesionamiento de los datos, pasando de (28 x 28) a (784)\n",
        "- También se transforman la columna que contiene la información de cada dígito (qué dígito es de 0 a 9) a datos, es decir se pasa de un dígito a un arreglo de ceros con un 1 en la posición de aquel dígito"
      ],
      "metadata": {
        "id": "VIEUVlv5LNKB"
      }
    },
    {
      "cell_type": "code",
      "source": [
        "train_images = train_images.reshape((60000, 28 * 28))\n",
        "train_images = train_images.astype('float32') / 255\n",
        "test_images = test_images.reshape((10000, 28 * 28))\n",
        "test_images = test_images.astype('float32') / 255"
      ],
      "metadata": {
        "id": "ZSh_MGprLPuF"
      },
      "execution_count": 22,
      "outputs": []
    },
    {
      "cell_type": "code",
      "source": [
        "train_labels = to_categorical(train_labels)\n",
        "test_labels = to_categorical(test_labels)"
      ],
      "metadata": {
        "id": "JxlTZ-V8LTPX"
      },
      "execution_count": 24,
      "outputs": []
    },
    {
      "cell_type": "markdown",
      "source": [
        "## Red Neuronal"
      ],
      "metadata": {
        "id": "w_HaQv4zI6h_"
      }
    },
    {
      "cell_type": "markdown",
      "source": [
        "Este modelo, es una sencilla red neuronal que cuenta con dos capas. La primera capa recibe la información de los 784 dígitos que codifican una imagen, y la segunda capa indica 10 probabilidades de dicho dígito, siendo la mayor la predicción.\n",
        "Estas dos capas estan totalmente conectadas, es decir cada neurona de cada capa esta conectada."
      ],
      "metadata": {
        "id": "-Yy1LndPXb8V"
      }
    },
    {
      "cell_type": "code",
      "source": [
        "network = models.Sequential()\n",
        "network.add(layers.Dense(512, activation='relu', input_shape=(28 * 28,)))\n",
        "network.add(layers.Dense(10, activation='softmax'))"
      ],
      "metadata": {
        "id": "JWN21OmeI71q"
      },
      "execution_count": 3,
      "outputs": []
    },
    {
      "cell_type": "markdown",
      "source": [
        "Existen dos elementos claves de una red neuronal\n",
        "- Loss function: Medida del éxito de nuestras predicciones, en este caso `categorical_crossentropy` la cual es usada donde la salida es más de una categoría (en este caso 10)\n",
        "- Optimizer: Determina como se va actualizar nuestro modelo de acuerdo a la información entregada por la loss function, en este caso `rmsprop`."
      ],
      "metadata": {
        "id": "Fv1z_DyrYSWu"
      }
    },
    {
      "cell_type": "code",
      "source": [
        "network.compile(optimizer='rmsprop',\n",
        "loss='categorical_crossentropy',\n",
        "metrics=['accuracy'])"
      ],
      "metadata": {
        "id": "6F2V_DBAI8O1"
      },
      "execution_count": 4,
      "outputs": []
    },
    {
      "cell_type": "markdown",
      "source": [
        "Ahora, entrenamos el modelo con los 60 mil datos de entrenamiento. El valor de `epochs` significa el número de veces que el modelo \"verá\" los datos. El valor de `batch_size` es el número de datos a evaluar en cada iteración."
      ],
      "metadata": {
        "id": "-N6YvkQjY9zO"
      }
    },
    {
      "cell_type": "code",
      "source": [
        "network.fit(train_images, train_labels, epochs=5, batch_size=128)"
      ],
      "metadata": {
        "colab": {
          "base_uri": "https://localhost:8080/"
        },
        "id": "f23ZBWO-JMoA",
        "outputId": "741e9c5a-61c1-44dd-dd04-6a5be5739de3"
      },
      "execution_count": 14,
      "outputs": [
        {
          "output_type": "stream",
          "name": "stdout",
          "text": [
            "Epoch 1/5\n",
            "469/469 [==============================] - 12s 23ms/step - loss: 0.2558 - accuracy: 0.9258\n",
            "Epoch 2/5\n",
            "469/469 [==============================] - 9s 19ms/step - loss: 0.1030 - accuracy: 0.9693\n",
            "Epoch 3/5\n",
            "469/469 [==============================] - 6s 13ms/step - loss: 0.0689 - accuracy: 0.9797\n",
            "Epoch 4/5\n",
            "469/469 [==============================] - 11s 24ms/step - loss: 0.0498 - accuracy: 0.9849\n",
            "Epoch 5/5\n",
            "469/469 [==============================] - 7s 16ms/step - loss: 0.0377 - accuracy: 0.9888\n"
          ]
        },
        {
          "output_type": "execute_result",
          "data": {
            "text/plain": [
              "<keras.callbacks.History at 0x7fd32b752b90>"
            ]
          },
          "metadata": {},
          "execution_count": 14
        }
      ]
    },
    {
      "cell_type": "markdown",
      "source": [
        "Guardamos el modelo en formato `hdf5`"
      ],
      "metadata": {
        "id": "SGNxVgljZPCt"
      }
    },
    {
      "cell_type": "code",
      "source": [
        "network.save(\"digit_recogniton.h5\")"
      ],
      "metadata": {
        "id": "YChy0-n5Lhw3"
      },
      "execution_count": 15,
      "outputs": []
    }
  ]
}