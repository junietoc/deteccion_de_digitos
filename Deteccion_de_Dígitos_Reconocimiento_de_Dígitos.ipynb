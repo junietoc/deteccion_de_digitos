{
  "nbformat": 4,
  "nbformat_minor": 0,
  "metadata": {
    "colab": {
      "provenance": []
    },
    "kernelspec": {
      "name": "python3",
      "display_name": "Python 3"
    },
    "language_info": {
      "name": "python"
    }
  },
  "cells": [
    {
      "cell_type": "markdown",
      "source": [
        "# Detección de digitos e interpretación de digitos\n",
        "Juliana Alejandra Nieto Cárdenas\n"
      ],
      "metadata": {
        "id": "oNlF7u_AUX_f"
      }
    },
    {
      "cell_type": "markdown",
      "source": [
        "### Modelo\n",
        "- Para el reconocimiento de dígitos, utilicé el famoso conjunto de datos de [MNIST](http://yann.lecun.com/exdb/mnist/). Que cuenta con 60 mil datos para entrenamiento\n",
        "- Este modelo, lo programé y entrené en el archivo [Detección de Dígitos: Modelo.ipynb](https://github.com/junietoc/deteccion_de_digitos/blob/master/Detecci%C3%B3n_de_D%C3%ADgitos_Modelo.ipynb)"
      ],
      "metadata": {
        "id": "ob6HHWyEV6md"
      }
    },
    {
      "cell_type": "code",
      "source": [
        "from PIL import Image\n",
        "import matplotlib.pyplot as plt\n",
        "from numpy import asarray\n",
        "from tensorflow.keras.models import load_model\n",
        "import numpy as np\n"
      ],
      "metadata": {
        "id": "61refIVzQWKq"
      },
      "execution_count": 51,
      "outputs": []
    },
    {
      "cell_type": "markdown",
      "source": [
        "## Datos\n",
        "Desde el repositorio de GitHub, obtendremos los siguientes archivos\n",
        "- `digit_recogniton.h5`: el modelo entrenado con los datos MNIST\n",
        "- `test`: la carpeta con 1000 imágenes de prueba obtenidas también de MNIST\n"
      ],
      "metadata": {
        "id": "TSaulaHOZ0kG"
      }
    },
    {
      "cell_type": "code",
      "execution_count": null,
      "metadata": {
        "id": "_HpYtTzMPGFu"
      },
      "outputs": [],
      "source": [
        "!apt install subversion"
      ]
    },
    {
      "cell_type": "code",
      "source": [
        "!svn checkout https://github.com/junietoc/deteccion_de_digitos"
      ],
      "metadata": {
        "id": "hUd2gDYOPtwF"
      },
      "execution_count": null,
      "outputs": []
    },
    {
      "cell_type": "markdown",
      "source": [
        "### Seleccionar imagen\n",
        "Se selecciona una imagen aleatoria y se muestra que dígito es."
      ],
      "metadata": {
        "id": "6vEhrCXlT60A"
      }
    },
    {
      "cell_type": "code",
      "source": [
        "sample = np.random.randint(1,1001)\n",
        "url = f\"./deteccion_de_digitos/trunk/test/test_img_digit_{sample}.jpg\"\n",
        "img = Image.open(url)"
      ],
      "metadata": {
        "id": "oTUQJooTPwrN"
      },
      "execution_count": 54,
      "outputs": []
    },
    {
      "cell_type": "code",
      "source": [
        "plt.imshow(img, cmap='Greys_r')"
      ],
      "metadata": {
        "colab": {
          "base_uri": "https://localhost:8080/",
          "height": 282
        },
        "id": "x3Zu6fyYQtMV",
        "outputId": "b5a0bd6b-e212-46bc-f81b-a89816970378"
      },
      "execution_count": 56,
      "outputs": [
        {
          "output_type": "execute_result",
          "data": {
            "text/plain": [
              "<matplotlib.image.AxesImage at 0x7f6aa6366d10>"
            ]
          },
          "metadata": {},
          "execution_count": 56
        },
        {
          "output_type": "display_data",
          "data": {
            "text/plain": [
              "<Figure size 432x288 with 1 Axes>"
            ],
            "image/png": "[encoded data removed]"
          },
          "metadata": {
            "needs_background": "light"
          }
        }
      ]
    },
    {
      "cell_type": "markdown",
      "source": [
        "### Preparación de los datos\n",
        "- Convertimos el archivo `.jpg` a un arreglo de `numpy` con la ayuda de la función `asarray()`\n",
        "- También, redimensionamos la matriz para que pueda ser procesada adecuadamente por el modelo"
      ],
      "metadata": {
        "id": "6B2QkPoFaXkG"
      }
    },
    {
      "cell_type": "code",
      "source": [
        "x = asarray(img)\n",
        "x = x.reshape(28 * 28,)\n",
        "x = x.astype('float32') / 255"
      ],
      "metadata": {
        "id": "MBV63BtyQzWh"
      },
      "execution_count": 57,
      "outputs": []
    },
    {
      "cell_type": "code",
      "source": [
        "x.shape"
      ],
      "metadata": {
        "colab": {
          "base_uri": "https://localhost:8080/"
        },
        "id": "-oEm6JWnRY77",
        "outputId": "d97842a3-52e1-4a55-f0d0-70bba108c10b"
      },
      "execution_count": 58,
      "outputs": [
        {
          "output_type": "execute_result",
          "data": {
            "text/plain": [
              "(784,)"
            ]
          },
          "metadata": {},
          "execution_count": 58
        }
      ]
    },
    {
      "cell_type": "markdown",
      "source": [
        "## Cargando modelo\n",
        "Cargamos el modelo entrenado usando la función de Keras `load_model()`"
      ],
      "metadata": {
        "id": "-fTy2IM6R77D"
      }
    },
    {
      "cell_type": "code",
      "source": [
        "url_model = \"./deteccion_de_digitos/trunk/digit_recogniton.h5\"\n",
        "model = load_model(url_model)"
      ],
      "metadata": {
        "id": "X5TfPyk5R9kU"
      },
      "execution_count": 59,
      "outputs": []
    },
    {
      "cell_type": "markdown",
      "source": [
        "## Predicción\n",
        "- Usamos el modelo para predecir\n",
        "- Obtenemos la predicción calculando la probabilidad más alta"
      ],
      "metadata": {
        "id": "-eK96lnLayMZ"
      }
    },
    {
      "cell_type": "code",
      "source": [
        "predictions = model.predict(np.array( [x,] ))"
      ],
      "metadata": {
        "colab": {
          "base_uri": "https://localhost:8080/"
        },
        "id": "Oc2nUOyzSrpU",
        "outputId": "0d420af2-1ada-4b9b-aa05-44f4c64f4da6"
      },
      "execution_count": 60,
      "outputs": [
        {
          "output_type": "stream",
          "name": "stdout",
          "text": [
            "1/1 [==============================] - 0s 46ms/step\n"
          ]
        }
      ]
    },
    {
      "cell_type": "code",
      "source": [
        "np.argmax(predictions)"
      ],
      "metadata": {
        "colab": {
          "base_uri": "https://localhost:8080/"
        },
        "id": "dN8xTt2-SuWv",
        "outputId": "c177f2d1-4162-447f-cbec-a765e3bba911"
      },
      "execution_count": 61,
      "outputs": [
        {
          "output_type": "execute_result",
          "data": {
            "text/plain": [
              "9"
            ]
          },
          "metadata": {},
          "execution_count": 61
        }
      ]
    }
  ]
}